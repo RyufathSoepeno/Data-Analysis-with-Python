{
 "cells": [
  {
   "cell_type": "markdown",
   "metadata": {
    "collapsed": true,
    "jupyter": {
     "outputs_hidden": true
    }
   },
   "source": [
    "# Assignment 5 Space Cows Transportation\n"
   ]
  },
  {
   "cell_type": "markdown",
   "metadata": {
    "collapsed": true,
    "jupyter": {
     "outputs_hidden": true
    }
   },
   "source": [
    "\n",
    "## Introduction\n",
    "In this assignment, a colony of Aucks (super-intelligent alien bio-engineers) has landed on Earth and has created new species of farm animals! The Aucks are performing their experiments on Earth, and plan on transporting the mutant animals back to their home planet of Aurock. In this problem set, you will implement algorithms to figure out how the aliens should shuttle their experimental animals back across space.\n",
    "\n"
   ]
  },
  {
   "cell_type": "markdown",
   "metadata": {},
   "source": [
    "## Getting Started \n",
    "\n",
    "Download Assignment5.zip from the website.\n",
    "\n",
    "Please do not rename the provided files, change any of the provided helper functions, change function/method names, or delete provided docstrings. You will need to keep ```a5_cow_data.txt```, and ```a5_cow_data_1.txt```, in the same folder as ```a5.ipynb```.\n"
   ]
  },
  {
   "cell_type": "markdown",
   "metadata": {},
   "source": [
    "## Problem Set Overview\n",
    "\n",
    "The aliens have succeeded in breeding cows that jump over the moon! Now they want to take home their mutant cows. The aliens want to take all chosen cows back, but their spaceship has a weight limit and they can only travel a limitted number of trips they have to take across the universe. Somehow, the aliens have evolved and developed breeding technology to make cows with integer weights and IQs.\n",
    "\n",
    "The data for the cows to be transported is stored in ```a5_cow_data.txt```, and another set of cows for another separate transport are in ```a5_cow_data_1.txt```. (You may use the two files to read data and test your implementation individually). All of your code for the problem solving in this assignment should go into ```a5.ipynb```--you need to expand the given notebook to include your Python code and discussion notes.  \n",
    "\n",
    "For each problem, I provide some skeleton code for you to start your problem solving. Note that most of the code definitions are not complete unless I point out the completion of some certain function such as **greedy** for Problem 3. For each code cell that contains only incomplete code, you need to extend the code implementation.  \n",
    "\n",
    "You also need to solve the problems in the order presented in this document.  That is, you should complete problem 1 first before you approach problems 2 and 3.  The solutions of the later problems are dependent on the solutions to earlier problems.  For example, in Problem 2, you need to parse a data file to create Cow objects.  The class definition of Cow for Problem 1 is needed to create the Cow objects for Problem 2.  "
   ]
  },
  {
   "cell_type": "markdown",
   "metadata": {},
   "source": [
    "# Problem 1: Defining Cow Class\n",
    "\n",
    "First we need to define a **Cow** class.  Each cow object state is described using name as a string and weight as an int. (You may check the Food class definition in the lecture notes as a reference when you are working on defining the Cow class.) \n",
    "\n",
    "Note that I provided some skeleton code below so that you may expand based on what is provided.  "
   ]
  },
  {
   "cell_type": "code",
   "execution_count": 4,
   "metadata": {},
   "outputs": [
    {
     "name": "stdout",
     "output_type": "stream",
     "text": [
      "Cow mary: Weight 3, IQ 120\n",
      "40.0\n",
      "\n",
      "\n",
      "mary\n",
      "3\n",
      "120\n"
     ]
    }
   ],
   "source": [
    "class Cow(object):\n",
    "    \n",
    "    def __init__(self, name, weight, IQ):\n",
    "        self.name = name\n",
    "        self.weight = weight\n",
    "        self.IQ = IQ\n",
    "        self.transported = 0  # Optional attribute to track if cow has been transported\n",
    "\n",
    "    def __str__(self):\n",
    "        return f\"Cow {self.name}: Weight {self.weight}, IQ {self.IQ}\"\n",
    "\n",
    "    def getName(self):\n",
    "        return self.name\n",
    "\n",
    "    def getWeight(self):\n",
    "        return self.weight\n",
    "\n",
    "    def getIQ(self):\n",
    "        return self.IQ\n",
    "\n",
    "    def getDensity(self):\n",
    "        # Calculates and returns IQ per unit weight as a measure of \"density\"\n",
    "        return self.IQ / self.weight if self.weight != 0 else 0\n",
    "\n",
    "# Test code\n",
    "mary = Cow('mary', 3, 120)\n",
    "print(mary)              # Expected: \"Cow mary: Weight 3, IQ 120\"\n",
    "print(mary.getDensity()) # Expected: 40.0\n",
    "print(\"\\n\")\n",
    "# Additional test code to check all methods\n",
    "print(mary.getName())    # Expected: 'mary'\n",
    "print(mary.getWeight())  # Expected: 3\n",
    "print(mary.getIQ())      # Expected: 120"
   ]
  },
  {
   "cell_type": "markdown",
   "metadata": {},
   "source": [
    "Note the test code provided above doesn't provide a throughout checking and evaluation of your class definition.  It only checks the __init__, __str__, and getDensity methods.  You should extend the test code to evaluate other methods you define in the class definition.   The output of the above test code could be like\n",
    "\n",
    "<code>\n",
    "Cow mary: Weight 3, IQ 120\n",
    "40.0\n",
    "</code>\n",
    "\n",
    "The first output is determined by the definition of __str__ in the class definition. "
   ]
  },
  {
   "cell_type": "markdown",
   "metadata": {},
   "source": [
    "# Problem 2: Loading Cow Data\n",
    "\n",
    "Second we need to load the cow data from the data file ```a5_cow_data.txt```.\n",
    "The file ```a5_cow_data_1.txt``` is given as another file that you can read and test from, but for now, just work with a1_cow_data.txt.\n",
    "\n",
    "You can expect the data to be formatted in triples of ```x,y,z``` on each line, where ```x``` is the name of the cow, ```y``` is a number indicating how much the cow weighs in tons, and ```z``` is a number indicating the cow's IQ value. Here are the few lines\n",
    "of ```a5_cow_data.txt```: \n",
    "\n",
    "<code>\n",
    "Maggie,3,165\n",
    "Herman,7,126\n",
    "Betsy,9,122\n",
    "Oreo,6,104\n",
    "Moo Moo,3,151\n",
    "Milkshake,2,117\n",
    "Millie,5,84\n",
    "Lola,2,131\n",
    "Florence,2,101\n",
    "Henrietta,9,106\n",
    "</code>\n",
    "\n",
    "You can assume that all the cows have unique names.\n",
    "Hint: If you don’t remember how to read lines from a file, check out the online python documentation, which has a chapter on **Input and Output** that includes file I/O here: https://docs.python.org/3/tutorial/inputoutput.html\n",
    "\n",
    "Some functions that may be helpful:\n",
    "\n",
    "<code>\n",
    "str.split\n",
    "open\n",
    "file.readline\n",
    "file.close\n",
    "</code>\n",
    "\n"
   ]
  },
  {
   "cell_type": "code",
   "execution_count": 9,
   "metadata": {},
   "outputs": [
    {
     "name": "stdout",
     "output_type": "stream",
     "text": [
      "Maggie,3,165\r\n",
      "Herman,7,126\r\n",
      "Betsy,9,122\r\n",
      "Oreo,6,104\r\n",
      "Moo Moo,3,151\r\n",
      "Milkshake,2,117\r\n",
      "Millie,5,84\r\n",
      "Lola,2,131\r\n",
      "Florence,2,101\r\n",
      "Henrietta,9,106\r\n"
     ]
    }
   ],
   "source": [
    "! cat \"a5_cow_data.txt\""
   ]
  },
  {
   "cell_type": "code",
   "execution_count": 10,
   "metadata": {},
   "outputs": [
    {
     "name": "stdout",
     "output_type": "stream",
     "text": [
      "Miss Moo-dy,3,172\r\n",
      "Milkshake,4,102\r\n",
      "Lotus,10,149\r\n",
      "Miss Bella,2,103\r\n",
      "Horns,9,81\r\n",
      "Betsy,5,97\r\n",
      "Rose,3,155\r\n",
      "Dottie,6,91\r\n"
     ]
    }
   ],
   "source": [
    "! cat \"a5_cow_data_1.txt\"\n"
   ]
  },
  {
   "cell_type": "code",
   "execution_count": 6,
   "metadata": {},
   "outputs": [
    {
     "name": "stdout",
     "output_type": "stream",
     "text": [
      "Cow Maggie: Weight 3, IQ 165\n",
      "Cow Herman: Weight 7, IQ 126\n",
      "Cow Betsy: Weight 9, IQ 122\n",
      "Cow Oreo: Weight 6, IQ 104\n",
      "Cow Moo Moo: Weight 3, IQ 151\n",
      "Cow Milkshake: Weight 2, IQ 117\n",
      "Cow Millie: Weight 5, IQ 84\n",
      "Cow Lola: Weight 2, IQ 131\n",
      "Cow Florence: Weight 2, IQ 101\n",
      "Cow Henrietta: Weight 9, IQ 106\n"
     ]
    }
   ],
   "source": [
    "def load_cows(filename):\n",
    "    # First create a list to store Cow objects\n",
    "    data = []\n",
    "    \n",
    "    # To open and read the file\n",
    "    with open(filename, 'r') as f:\n",
    "        # Read each line in the file\n",
    "        for line in f:\n",
    "            # To remove any surrounding whitespace or newline characters\n",
    "            line = line.strip()\n",
    "            \n",
    "            # Split the line by commas to extract name, weight, and IQ\n",
    "            if line:\n",
    "                name, weight, iq = line.split(',')\n",
    "                # Create a Cow object with parsed values\n",
    "                cow = Cow(name, int(weight), int(iq))\n",
    "                # Add the Cow object to the data list\n",
    "                data.append(cow)\n",
    "    return data\n",
    "\n",
    "# Test code\n",
    "data = load_cows(\"a5_cow_data.txt\")\n",
    "for cow in data:\n",
    "    print(cow)\n"
   ]
  },
  {
   "cell_type": "markdown",
   "metadata": {},
   "source": [
    "By running the above test code, your code should get output like below\n",
    "<code>\n",
    " Cow Maggie: Weight 3, IQ 165\n",
    " Cow Herman: Weight 7, IQ 126\n",
    " Cow Betsy: Weight 9, IQ 122\n",
    " Cow Oreo: Weight 6, IQ 104\n",
    " Cow Moo Moo: Weight 3, IQ 151\n",
    " Cow Milkshake: Weight 2, IQ 117\n",
    " Cow Millie: Weight 5, IQ 84\n",
    " Cow Lola: Weight 2, IQ 131\n",
    " Cow Florence: Weight 2, IQ 101\n",
    " Cow Henrietta: Weight 9, IQ 106\n",
    "</code>\n",
    "\n",
    " \n",
    "Again, I would like to remind you that the __str__ method of the Cow object represented by data[i] is called when print(data[i]) is invoked. \n"
   ]
  },
  {
   "cell_type": "markdown",
   "metadata": {},
   "source": [
    "### Problem 3: Greedy Cow Transport \n",
    "\n",
    "One way of transporting cows is to always pick the cow that has the most intelligence density (IQ/weight) onto the spaceship first. This is an example of a ```greedy``` algorithm.  You may choose a criterion to use, which you think suitable to accomplish the goal ---to transport the maximum intelligence values of cows back home. \n",
    "\n",
    "Implement a greedy algorithm for transporting the cows back across space in\n",
    "**greedy_cow_transport**. The constraints include the weight limit for each space trip and the total number of trips the aliens can make.  The result should be a triple composed of three values: the first value presents the total sum of the IQs of the cows transported, the second value presents the total sum of the weight values of the transported cows, and the third value presents a list of lists, with each inner list containing cows (cow objects) transported on a particular trip.\n",
    "\n",
    "\n",
    "\n",
    "To facilitate your problem solving, I provide a function definition of greedy, which is complete. (It means that you do NOT need to change anything.  I also provide some skeleton code for **greedy_cow_transport** including the function call of greedy on line 35. The function definition of **greedy** is based on the greedy algorithm we studied in the lecture.  \n",
    "\n"
   ]
  },
  {
   "cell_type": "code",
   "execution_count": 8,
   "metadata": {},
   "outputs": [],
   "source": [
    "\n",
    "#Implementation of Flexible Greedy \n",
    "def greedy(cows, maxCost, keyFunction):\n",
    "    \"\"\"\n",
    "    Uses a greedy approach based on a criterion to \n",
    "    determine a list of Cow objects \n",
    "    to take on a single trip by a spaceship that can carry \n",
    "    a certain amount of weight.\n",
    "    \n",
    "    Parameters:\n",
    "        cows - a list of Cow objects\n",
    "        maxCost - should be a positive int to indicate the maximum weight (tons) the trip can do\n",
    "        keyFunction - should be a function that is used to sort the cows\n",
    "                        and it maps an item to a number\n",
    "    Returns:\n",
    "        result - a list of Cows chosen to be transported by a trip\n",
    "        totalValue - an int value to keep track of the sum of IQ values of the transported Cow objects\n",
    "        totalCost - an int value to keep track of the sum of weights of the transfored Cow objects\n",
    "    \"\"\"\n",
    "    \n",
    "    #Attention check sorted function documentation\n",
    "    itemsCopy = sorted(cows, key = keyFunction,  \n",
    "                       reverse = True)\n",
    "    result = []\n",
    "    \n",
    "    totalValue, totalCost = 0, 0\n",
    "    \n",
    "    for i in range(len(itemsCopy)): #Attention\n",
    "        if (totalCost+itemsCopy[i].getWeight()) <= maxCost:  #Attention \n",
    "            result.append(itemsCopy[i])\n",
    "            totalCost += itemsCopy[i].getWeight()\n",
    "            totalValue += itemsCopy[i].getIQ()\n",
    "            \n",
    "    return (result, totalValue, totalCost)\n"
   ]
  },
  {
   "cell_type": "code",
   "execution_count": 10,
   "metadata": {},
   "outputs": [
    {
     "name": "stdout",
     "output_type": "stream",
     "text": [
      "Trip 0:\n",
      "Cow Lola: Weight 2, IQ 131\n",
      "Cow Milkshake: Weight 2, IQ 117\n",
      "Cow Maggie: Weight 3, IQ 165\n",
      "Cow Florence: Weight 2, IQ 101\n",
      "\n",
      "\n",
      "Trip 1:\n",
      "Cow Moo Moo: Weight 3, IQ 151\n",
      "Cow Herman: Weight 7, IQ 126\n",
      "\n",
      "\n",
      "Trip 2:\n",
      "Cow Oreo: Weight 6, IQ 104\n",
      "\n",
      "\n",
      "Total IQs transported = 895\n",
      "Total weights (tons) transported = 25\n"
     ]
    }
   ],
   "source": [
    "def greedy_cow_transport(cows, oneTripWeightLimit=10, numberOfTrips=3):\n",
    "    trips = []\n",
    "    totalValue = 0\n",
    "    totalCost = 0\n",
    "    \n",
    "    remaining_cows = cows[:]\n",
    "    \n",
    "    while numberOfTrips > 0 and remaining_cows:\n",
    "        # We can use the greedy function to get the best cows for this trip based on their IQ density\n",
    "        result, oneTripValue, oneTripCost = greedy(remaining_cows, oneTripWeightLimit, Cow.getDensity)\n",
    "        \n",
    "        # However, if no cows can be transported in this trip, then the loop breaks\n",
    "        if not result:\n",
    "            break\n",
    "        \n",
    "        # Add the trip's cows to trips\n",
    "        trips.append(result)\n",
    "        \n",
    "        # Update totalValue and totalCost\n",
    "        totalValue += oneTripValue\n",
    "        totalCost += oneTripCost\n",
    "        \n",
    "        # Remove transported cows from remaining_cows\n",
    "        remaining_cows = [cow for cow in remaining_cows if cow not in result]\n",
    "        \n",
    "        # Decrement the number of trips left\n",
    "        numberOfTrips -= 1\n",
    "\n",
    "    return totalValue, totalCost, trips\n",
    "\n",
    "# Test code\n",
    "cows = load_cows(\"a5_cow_data.txt\")\n",
    "totalValue, totalCost, trips = greedy_cow_transport(cows)\n",
    "\n",
    "for i in range(len(trips)):\n",
    "    print(\"Trip \" + str(i) + \":\")\n",
    "    for cow in trips[i]:\n",
    "        print(cow)\n",
    "    print(\"\\n\")\n",
    "\n",
    "print(\"Total IQs transported =\", totalValue)\n",
    "print(\"Total weights (tons) transported =\", totalCost)\n"
   ]
  },
  {
   "cell_type": "markdown",
   "metadata": {},
   "source": [
    "The output of the above test code should be like below\n",
    "\n",
    "<code>\n",
    "Trip 0:\n",
    " Cow Lola: Weight 2, IQ 131\n",
    " Cow Milkshake: Weight 2, IQ 117\n",
    " Cow Maggie: Weight 3, IQ 165\n",
    " Cow Florence: Weight 2, IQ 101\n",
    "\n",
    "\n",
    "Trip 1:\n",
    " Cow Moo Moo: Weight 3, IQ 151\n",
    " Cow Herman: Weight 7, IQ 126\n",
    "\n",
    "\n",
    "Trip 2:\n",
    " Cow Oreo: Weight 6, IQ 104\n",
    "\n",
    "\n",
    "Total IQs transported = 895\n",
    "Total weights (tons) transported = 25\n",
    "</code>\n"
   ]
  },
  {
   "cell_type": "markdown",
   "metadata": {},
   "source": [
    "### Problem 4: Writeup\n",
    "\n",
    "Answer the following questions:\n",
    "\n",
    "<li>Does the greedy algorithm return the optimal solution? Think: How do you evaluate greedy algorithms in general?  How about this case? </li>\n",
    "<li>If yes, why?\n",
    "<li>If not, what could be a solution that can find the optimal solution?  </li>\n",
    "\n",
    "Note that you can write your answers to the questions in this notebook document with your code implementations.   "
   ]
  },
  {
   "cell_type": "markdown",
   "metadata": {},
   "source": [
    "1. **Does the greedy algorithm return the optimal solution?**\n",
    "With thorough analysis, I would say that the greedy algorithm doesn’t ensure the optimal solution here. While it selects cows based on the highest IQ density, it does not account for the overall combination of cows across trips, which may lead to a suboptimal total IQ. Essentially, the strategy might miss the big picture of what’s best for the entire journey.\n",
    "\n",
    "2. **How do you evaluate greedy algorithms in general? How about this case?**\n",
    "Greedy algorithms are generally valued for being fast and delivering workable solutions. Here, the greedy approach is quick and simple, making it practical for time-sensitive tasks. However, since it prioritizes one metric (IQ density), it doesn’t always lead to the highest possible IQ total, as it might ignore combinations that would fit better across multiple trips the Aucks would make and that the approximation quality may vary since it might not yield the maximum possible IQ sum due to the limitations of density-based selection\n",
    "\n",
    "3. **If not, what could be a solution that can find the optimal solution?**\n",
    "For the absolute best solution, a dynamic programming algorithm would be more reliable. Dynamic programming (DP) is suitable for the cow transport problem because it allows us to explore and record optimal solutions for subproblems—such as finding the best combination of cows for each trip under the weight constraint. DP efficiently finds the solution by breaking the problem down into overlapping subproblems and storing solutions for these subproblems to avoid redundant calculations.\n",
    "\n",
    "Here is the new solution for problem 3 with the dynamic programming:"
   ]
  },
  {
   "cell_type": "code",
   "execution_count": 12,
   "metadata": {},
   "outputs": [
    {
     "name": "stdout",
     "output_type": "stream",
     "text": [
      "Trip 1:\n",
      "Cow Maggie: Weight 3, IQ 165\n",
      "Cow Moo Moo: Weight 3, IQ 151\n",
      "Cow Milkshake: Weight 2, IQ 117\n",
      "Cow Lola: Weight 2, IQ 131\n",
      "\n",
      "\n",
      "Trip 2:\n",
      "Cow Herman: Weight 7, IQ 126\n",
      "Cow Florence: Weight 2, IQ 101\n",
      "\n",
      "\n",
      "Trip 3:\n",
      "Cow Betsy: Weight 9, IQ 122\n",
      "\n",
      "\n",
      "Total IQs transported = 913\n",
      "Total weights (tons) transported = 28\n"
     ]
    }
   ],
   "source": [
    "from itertools import combinations\n",
    "\n",
    "def dp_cow_transport(cows, oneTripWeightLimit=10, numberOfTrips=3):\n",
    "    \"\"\"\n",
    "    Uses a dynamic programming approach to determine the best allocation of cows \n",
    "    to maximize the total IQ while respecting the constraints of trip weight \n",
    "    and trip count.\n",
    "    \n",
    "    Parameters:\n",
    "    cows - a list of Cow objects\n",
    "    oneTripWeightLimit - the maximum weight the spaceship can carry in one trip\n",
    "    numberOfTrips - the total number of trips allowed\n",
    "    \n",
    "    Returns:\n",
    "    A tuple with the total IQ of transported cows, the total weight, and a list of \n",
    "    lists representing each trip.\n",
    "    \"\"\"\n",
    "    # Step 1: Prepare a dictionary to store optimal results for each weight and cow combination\n",
    "    dp_table = {}\n",
    "\n",
    "    def best_trip(cows_list, weight_limit):\n",
    "        \"\"\"\n",
    "        Finds the optimal subset of cows within a single trip under weight constraint.\n",
    "        \"\"\"\n",
    "        # Check if result is already computed\n",
    "        if (tuple(cows_list), weight_limit) in dp_table:\n",
    "            return dp_table[(tuple(cows_list), weight_limit)]\n",
    "\n",
    "        max_iq = 0\n",
    "        best_subset = []\n",
    "\n",
    "        # Iterate through all subsets of cows to find the best trip configuration\n",
    "        for r in range(1, len(cows_list) + 1):\n",
    "            for subset in combinations(cows_list, r):\n",
    "                total_weight = sum(cow.getWeight() for cow in subset)\n",
    "                if total_weight <= weight_limit:\n",
    "                    total_iq = sum(cow.getIQ() for cow in subset)\n",
    "                    if total_iq > max_iq:\n",
    "                        max_iq = total_iq\n",
    "                        best_subset = list(subset)\n",
    "        \n",
    "        dp_table[(tuple(cows_list), weight_limit)] = (best_subset, max_iq, sum(cow.getWeight() for cow in best_subset))\n",
    "        return best_subset, max_iq, sum(cow.getWeight() for cow in best_subset)\n",
    "\n",
    "    trips = []\n",
    "    total_iq = 0\n",
    "    total_weight = 0\n",
    "\n",
    "    remaining_cows = cows[:]\n",
    "    while numberOfTrips > 0 and remaining_cows:\n",
    "        # Find the best possible trip for the remaining cows\n",
    "        best_trip_cows, trip_iq, trip_weight = best_trip(remaining_cows, oneTripWeightLimit)\n",
    "        \n",
    "        # Update trips and remaining cows\n",
    "        trips.append(best_trip_cows)\n",
    "        total_iq += trip_iq\n",
    "        total_weight += trip_weight\n",
    "        \n",
    "        # Remove transported cows from remaining cows list\n",
    "        remaining_cows = [cow for cow in remaining_cows if cow not in best_trip_cows]\n",
    "        \n",
    "        numberOfTrips -= 1  # Decrement the trip counter\n",
    "\n",
    "    return total_iq, total_weight, trips\n",
    "\n",
    "# Testing the DP-based function\n",
    "cows = load_cows(\"a5_cow_data.txt\")\n",
    "total_iq, total_weight, trips = dp_cow_transport(cows)\n",
    "for i, trip in enumerate(trips):\n",
    "    print(f\"Trip {i + 1}:\")\n",
    "    for cow in trip:\n",
    "        print(cow)\n",
    "    print(\"\\n\")\n",
    "print(\"Total IQs transported =\", total_iq)\n",
    "print(\"Total weights (tons) transported =\", total_weight)"
   ]
  },
  {
   "cell_type": "markdown",
   "metadata": {},
   "source": [
    "# Turn-in\n",
    "You need to turn in below for your submission:\n",
    "\n",
    "* Your notebook file that contains the code and presentation.  Note that you need to execute the code cells to generate output that should be similar to the output examples presented in this document.  My running environment is different from yours.  To make sure I evaluate your notebook fairly, you should provide me the output you ran at your side. After you run your code cells, you can save the notebook file.   \n",
    "* Any other supplementary documents you want to submit to D2L Assignments folder \n",
    "\n",
    "You need to package the files into a zip archive and upload the zip file to D2L assignment folder <b>Assignment 5</b>"
   ]
  }
 ],
 "metadata": {
  "kernelspec": {
   "display_name": "Python 3 (ipykernel)",
   "language": "python",
   "name": "python3"
  },
  "language_info": {
   "codemirror_mode": {
    "name": "ipython",
    "version": 3
   },
   "file_extension": ".py",
   "mimetype": "text/x-python",
   "name": "python",
   "nbconvert_exporter": "python",
   "pygments_lexer": "ipython3",
   "version": "3.12.4"
  }
 },
 "nbformat": 4,
 "nbformat_minor": 4
}
