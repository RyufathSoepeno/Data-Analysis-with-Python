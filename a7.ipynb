{
 "cells": [
  {
   "cell_type": "markdown",
   "metadata": {},
   "source": [
    "# Assignment 7 Classification\n",
    "\n",
    "\n",
    "## Learning Objectives \n",
    "\n",
    "* Identify classification learning algorithms in supervised learning paradigm\n",
    "* Identify what is K-nearest neighbor (KNN)  and how it works\n",
    "* Identify what is logistic regression  and how it works\n",
    "* Apply KNN and logistic regression to build classifiers\n",
    "* Analyze and communicate analysis results by applying classifiers to learn from data\n",
    "\n",
    "\n"
   ]
  },
  {
   "cell_type": "markdown",
   "metadata": {},
   "source": [
    "## Provided Code\n",
    "\n",
    "Below code, which is similar or identical to the lecture code, can be used in your assignment solutions.   Please feel free to use them as you see appropriate. Note that you can reuse as much code as possible from the lecture notes.  Indeed, I expect to reuse a lot of code, even if the code is not included below, from the lecture notes to approach the problems in this assignment. "
   ]
  },
  {
   "cell_type": "code",
   "execution_count": 3,
   "metadata": {},
   "outputs": [],
   "source": [
    "import random\n",
    "import numpy as np\n",
    "import matplotlib.pyplot as plt\n",
    "%matplotlib inline \n",
    "\n",
    "#you can use the below style or something else\n",
    "plt.style.use('classic')\n",
    "plt.style.use('seaborn-v0_8-whitegrid')"
   ]
  },
  {
   "cell_type": "code",
   "execution_count": 4,
   "metadata": {},
   "outputs": [],
   "source": [
    "#z-scaling.  The returned array should have mean 0 and std 1\n",
    "def scaleAttrs(vals):\n",
    "    vals = np.array(vals)\n",
    "    mean = sum(vals)/len(vals)\n",
    "    sd = np.std(vals)\n",
    "    vals = vals - mean\n",
    "    return vals/sd"
   ]
  },
  {
   "cell_type": "code",
   "execution_count": 5,
   "metadata": {},
   "outputs": [],
   "source": [
    "def accuracy(truePos, falsePos, trueNeg, falseNeg):\n",
    "    numerator = truePos + trueNeg\n",
    "    denominator = truePos + trueNeg + falsePos + falseNeg\n",
    "    return numerator/denominator\n",
    "def sensitivity(truePos, falseNeg):\n",
    "    try:\n",
    "        return truePos/(truePos + falseNeg)\n",
    "    except ZeroDivisionError:\n",
    "        return float('nan')\n",
    "def specificity(trueNeg, falsePos):\n",
    "    try:\n",
    "        return trueNeg/(trueNeg + falsePos)\n",
    "    except ZeroDivisionError:\n",
    "        return float('nan')\n",
    "def posPredVal(truePos, falsePos):\n",
    "    try:\n",
    "        return truePos/(truePos + falsePos)\n",
    "    except ZeroDivisionError:\n",
    "        return float('nan')\n",
    "def negPredVal(trueNeg, falseNeg):\n",
    "    try:\n",
    "        return trueNeg/(trueNeg + falseNeg)\n",
    "    except ZeroDivisionError:\n",
    "        return float('nan')\n",
    "    \n",
    "def getStats(truePos, falsePos, trueNeg, falseNeg, toPrint = True):\n",
    "    accur = accuracy(truePos, falsePos, trueNeg, falseNeg)\n",
    "    sens = sensitivity(truePos, falseNeg)\n",
    "    spec = specificity(trueNeg, falsePos)\n",
    "    ppv = posPredVal(truePos, falsePos)\n",
    "    if toPrint:\n",
    "        print(' Accuracy =', round(accur, 3))\n",
    "        print(' Sensitivity =', round(sens, 3))\n",
    "        print(' Specificity =', round(spec, 3))\n",
    "        print(' Pos. Pred. Val. =', round(ppv, 3))\n",
    "    return (accur, sens, spec, ppv)\n",
    "\n",
    "def leaveOneOut(examples, method, toPrint = True):\n",
    "    truePos, falsePos, trueNeg, falseNeg = 0, 0, 0, 0\n",
    "    for i in range(len(examples)):\n",
    "        testCase = examples[i]\n",
    "        trainingData = examples[0:i] + examples[i+1:]\n",
    "        results = method(trainingData, [testCase])\n",
    "        truePos += results[0]\n",
    "        falsePos += results[1]\n",
    "        trueNeg += results[2]\n",
    "        falseNeg += results[3]\n",
    "    if toPrint:\n",
    "        getStats(truePos, falsePos, trueNeg, falseNeg)\n",
    "    return truePos, falsePos, trueNeg, falseNeg\n",
    "\n",
    "def split80_20(examples):\n",
    "    sampleIndices = random.sample(range(len(examples)),\n",
    "                                  len(examples)//5)\n",
    "    trainingSet, testSet = [], []\n",
    "    for i in range(len(examples)):\n",
    "        if i in sampleIndices:\n",
    "            testSet.append(examples[i])\n",
    "        else:\n",
    "            trainingSet.append(examples[i])\n",
    "    return trainingSet, testSet\n",
    "\n",
    "# method is a function that could be k-nn or logistic-regression\n",
    "def randomSplits(examples, method, numSplits, toPrint = True):\n",
    "    truePos, falsePos, trueNeg, falseNeg = 0, 0, 0, 0\n",
    "    random.seed(0)\n",
    "    for t in range(numSplits):\n",
    "        trainingSet, testSet = split80_20(examples)\n",
    "        results = method(trainingSet, testSet)\n",
    "        truePos += results[0]\n",
    "        falsePos += results[1]\n",
    "        trueNeg += results[2]\n",
    "        falseNeg += results[3]\n",
    "    getStats(truePos/numSplits, falsePos/numSplits,trueNeg/numSplits, falseNeg/numSplits, toPrint)\n",
    "    return truePos/numSplits, falsePos/numSplits,trueNeg/numSplits, falseNeg/numSplits"
   ]
  },
  {
   "cell_type": "code",
   "execution_count": 6,
   "metadata": {},
   "outputs": [],
   "source": [
    "\n",
    "def minkowskiDist(v1, v2, p):\n",
    "    \"\"\"Assumes v1 and v2 are equal-length arrays of numbers\n",
    "       Returns Minkowski distance of order p between v1 and v2\"\"\"\n",
    "    dist = 0.0\n",
    "    for i in range(len(v1)):\n",
    "        dist += abs(v1[i] - v2[i])**p\n",
    "    return dist**(1/p)"
   ]
  },
  {
   "cell_type": "code",
   "execution_count": 7,
   "metadata": {},
   "outputs": [],
   "source": [
    "#Now let's try KNN\n",
    "def findKNearest(example, exampleSet, k):\n",
    "    kNearest, distances = [], []\n",
    "    #Build lists containing first k examples and their distances\n",
    "    for i in range(k):\n",
    "        kNearest.append(exampleSet[i])\n",
    "        distances.append(example.distance(exampleSet[i]))\n",
    "    maxDist = max(distances) #Get maximum distance\n",
    "    #Look at examples not yet considered\n",
    "    for e in exampleSet[k:]:\n",
    "        dist = example.distance(e)\n",
    "        if dist < maxDist:\n",
    "            #replace farther neighbor by this one\n",
    "            maxIndex = distances.index(maxDist)\n",
    "            kNearest[maxIndex] = e\n",
    "            distances[maxIndex] = dist\n",
    "            maxDist = max(distances)      \n",
    "    return kNearest, distances\n",
    "\n",
    "def KNearestClassify(training, testSet, label, k):\n",
    "    \"\"\"Assumes training & testSet lists of examples, k an int\n",
    "       Predicts whether each example in testSet has label\n",
    "       Returns number of true positives, false positives,\n",
    "          true negatives, and false negatives\"\"\"\n",
    "    truePos, falsePos, trueNeg, falseNeg = 0, 0, 0, 0\n",
    "    for testCase in testSet:\n",
    "        nearest, distances = findKNearest(testCase, training, k)\n",
    "        #conduct vote\n",
    "        numMatch = 0\n",
    "        for i in range(len(nearest)):\n",
    "            if nearest[i].getLabel() == label:\n",
    "                numMatch += 1\n",
    "        if numMatch > k//2: #guess label\n",
    "            if testCase.getLabel() == label:\n",
    "                truePos += 1\n",
    "            else:\n",
    "                falsePos += 1\n",
    "        else: #guess not label\n",
    "            if testCase.getLabel() != label:\n",
    "                trueNeg += 1\n",
    "            else:\n",
    "                falseNeg += 1\n",
    "    return truePos, falsePos, trueNeg, falseNeg"
   ]
  },
  {
   "cell_type": "markdown",
   "metadata": {},
   "source": [
    "\n",
    "## Data Scientists\n",
    "\n",
    "Assume that we have a data-science club where data scientists meet and discuss data analysis and visualization. The members in the club are either paid accounts or unpaid accounts.  You are provided a list of tuples.  Each tuple contains three elements:\n",
    "* tenure, which is the number of years as a data scientist, \n",
    "* salary, which is how much the data scientist ears, \n",
    "* account, which is a number that is either 1 for a paid account or 0 for an unpaid account. \n",
    "\n"
   ]
  },
  {
   "cell_type": "code",
   "execution_count": 9,
   "metadata": {},
   "outputs": [],
   "source": [
    "#do not change the below statement\n",
    "data = [(0.7,48000,1),(1.9,48000,0),(2.5,60000,1),(4.2,63000,0),(6,76000,0),(6.5,69000,0),(7.5,76000,0),(8.1,88000,0),(8.7,83000,1),(10,83000,1),(0.8,43000,0),(1.8,60000,0),(10,79000,1),(6.1,76000,0),(1.4,50000,0),(9.1,92000,0),(5.8,75000,0),(5.2,69000,0),(1,56000,0),(6,67000,0),(4.9,74000,0),(6.4,63000,1),(6.2,82000,0),(3.3,58000,0),(9.3,90000,1),(5.5,57000,1),(9.1,102000,0),(2.4,54000,0),(8.2,65000,1),(5.3,82000,0),(9.8,107000,0),(1.8,64000,0),(0.6,46000,1),(0.8,48000,0),(8.6,84000,1),(0.6,45000,0),(0.5,30000,1),(7.3,89000,0),(2.5,48000,1),(5.6,76000,0),(7.4,77000,0),(2.7,56000,0),(0.7,48000,0),(1.2,42000,0),(0.2,32000,1),(4.7,56000,1),(2.8,44000,1),(7.6,78000,0),(1.1,63000,0),(8,79000,1),(2.7,56000,0),(6,52000,1),(4.6,56000,0),(2.5,51000,0),(5.7,71000,0),(2.9,65000,0),(1.1,33000,1),(3,62000,0),(4,71000,0),(2.4,61000,0),(7.5,75000,0),(9.7,81000,1),(3.2,62000,0),(7.9,88000,0),(4.7,44000,1),(2.5,55000,0),(1.6,41000,0),(6.7,64000,1),(6.9,66000,1),(7.9,78000,1),(8.1,102000,0),(5.3,48000,1),(8.5,66000,1),(0.2,56000,0),(6,69000,0),(7.5,77000,0),(8,86000,0),(4.4,68000,0),(4.9,75000,0),(1.5,60000,0),(2.2,50000,0),(3.4,49000,1),(4.2,70000,0),(7.7,98000,0),(8.2,85000,0),(5.4,88000,0),(0.1,46000,0),(1.5,37000,0),(6.3,86000,0),(3.7,57000,0),(8.4,85000,0),(2,42000,0),(5.8,69000,1),(2.7,64000,0),(3.1,63000,0),(1.9,48000,0),(10,72000,1),(0.2,45000,0),(8.6,95000,0),(1.5,64000,0),(9.8,95000,0),(5.3,65000,0),(7.5,80000,0),(9.9,91000,0),(9.7,50000,1),(2.8,68000,0),(3.6,58000,0),(3.9,74000,0),(4.4,76000,0),(2.5,49000,0),(7.2,81000,0),(5.2,60000,1),(2.4,62000,0),(8.9,94000,0),(2.4,63000,0),(6.8,69000,1),(6.5,77000,0),(7,86000,0),(9.4,94000,0),(7.8,72000,1),(0.2,53000,0),(10,97000,0),(5.5,65000,0),(7.7,71000,1),(8.1,66000,1),(9.8,91000,0),(8,84000,0),(2.7,55000,0),(2.8,62000,0),(9.4,79000,0),(2.5,57000,0),(7.4,70000,1),(2.1,47000,0),(5.3,62000,1),(6.3,79000,0),(6.8,58000,1),(5.7,80000,0),(2.2,61000,0),(4.8,62000,0),(3.7,64000,0),(4.1,85000,0),(2.3,51000,0),(3.5,58000,0),(0.9,43000,0),(0.9,54000,0),(4.5,74000,0),(6.5,55000,1),(4.1,41000,1),(7.1,73000,0),(1.1,66000,0),(9.1,81000,1),(8,69000,1),(7.3,72000,1),(3.3,50000,0),(3.9,58000,0),(2.6,49000,0),(1.6,78000,0),(0.7,56000,0),(2.1,36000,1),(7.5,90000,0),(4.8,59000,1),(8.9,95000,0),(6.2,72000,0),(6.3,63000,0),(9.1,100000,0),(7.3,61000,1),(5.6,74000,0),(0.5,66000,0),(1.1,59000,0),(5.1,61000,0),(6.2,70000,0),(6.6,56000,1),(6.3,76000,0),(6.5,78000,0),(5.1,59000,0),(9.5,74000,1),(4.5,64000,0),(2,54000,0),(1,52000,0),(4,69000,0),(6.5,76000,0),(3,60000,0),(4.5,63000,0),(7.8,70000,0),(3.9,60000,1),(0.8,51000,0),(4.2,78000,0),(1.1,54000,0),(6.2,60000,0),(2.9,59000,0),(2.1,52000,0),(8.2,87000,0),(4.8,73000,0),(2.2,42000,1),(9.1,98000,0),(6.5,84000,0),(6.9,73000,0),(5.1,72000,0),(9.1,69000,1),(9.8,79000,1),]\n",
    "\n"
   ]
  },
  {
   "cell_type": "markdown",
   "metadata": {},
   "source": [
    "### Problem 1: Plotting the Club Members\n",
    "\n",
    "For this problem, you need to plot the data scientists in the data-science club so that we can conveniently visualize their tenured years, salaries, and paid accounts or not. Note that this problem was approached in an earlier assignment. I expect you to explore the data while approaching the question. "
   ]
  },
  {
   "cell_type": "code",
   "execution_count": 11,
   "metadata": {},
   "outputs": [
    {
     "data": {
      "image/png": "[encoded data removed]",
      "text/plain": [
       "<Figure size 640x480 with 1 Axes>"
      ]
     },
     "metadata": {},
     "output_type": "display_data"
    }
   ],
   "source": [
    "import matplotlib.pyplot as plt\n",
    "\n",
    "# Sample data (replace this with your actual dataset)\n",
    "data_scientists = [\n",
    "    {'tenure': 2, 'salary': 70, 'paid': True},\n",
    "    {'tenure': 1, 'salary': 50, 'paid': False},\n",
    "    {'tenure': 3, 'salary': 80, 'paid': True},\n",
    "    {'tenure': 4, 'salary': 90, 'paid': True},\n",
    "    {'tenure': 2, 'salary': 60, 'paid': False},\n",
    "]\n",
    "\n",
    "# Extract data for plotting\n",
    "tenures = [ds['tenure'] for ds in data_scientists]\n",
    "salaries = [ds['salary'] for ds in data_scientists]\n",
    "paid_status = ['Paid' if ds['paid'] else 'Unpaid' for ds in data_scientists]\n",
    "\n",
    "# Color mapping for paid/unpaid\n",
    "colors = ['green' if ds['paid'] else 'red' for ds in data_scientists]\n",
    "\n",
    "# Plotting\n",
    "plt.scatter(tenures, salaries, c=colors, label=paid_status)\n",
    "plt.xlabel('Tenured Years')\n",
    "plt.ylabel('Salary (in thousands)')\n",
    "plt.title('Data Scientists in the Club')\n",
    "plt.legend(['Paid Accounts', 'Unpaid Accounts'])\n",
    "plt.show()\n"
   ]
  },
  {
   "cell_type": "markdown",
   "metadata": {},
   "source": [
    "### Problem 2  Preparing for Building Learning Algorithms \n",
    "\n",
    "For this problem, you need to write functions/class definition(s) to prepare building classifiers and testing them using various metrics including accuracy, sensitivity, specificity, positive predicative value, negative predictive value.  In addition, you need to define a class **DataScientist** from which you can create data examples.  Each example represents a data scientist in terms of its features including salary and tenured years.  Your class definition also needs to allow you label a data scientist to appropriately distinguish paid from unpaid accounts in the club. Your class definition should be clear about what features are used in a feature vector and what is your label attribute for each data example. \n",
    "\n",
    "After you complete your class DataScientist definition, you need to process the provided data into a list of data examples. (Each example is a data scientist.)  \n",
    "\n"
   ]
  },
  {
   "cell_type": "code",
   "execution_count": 13,
   "metadata": {},
   "outputs": [
    {
     "name": "stdout",
     "output_type": "stream",
     "text": [
      "Features: [2, 70], Label: 1\n",
      "Features: [1, 50], Label: 0\n",
      "Features: [3, 80], Label: 1\n",
      "Features: [4, 90], Label: 1\n",
      "Features: [2, 60], Label: 0\n"
     ]
    }
   ],
   "source": [
    "# Define a DataScientist class\n",
    "class DataScientist:\n",
    "    def __init__(self, tenure, salary, paid):\n",
    "        self.tenure = tenure\n",
    "        self.salary = salary\n",
    "        self.paid = paid\n",
    "\n",
    "    def feature_vector(self):\n",
    "        return [self.tenure, self.salary]\n",
    "\n",
    "    def label(self):\n",
    "        return 1 if self.paid else 0\n",
    "\n",
    "# Process the data into DataScientist examples\n",
    "data_scientist_examples = [\n",
    "    DataScientist(2, 70, True),\n",
    "    DataScientist(1, 50, False),\n",
    "    DataScientist(3, 80, True),\n",
    "    DataScientist(4, 90, True),\n",
    "    DataScientist(2, 60, False),\n",
    "]\n",
    "\n",
    "# Example usage\n",
    "for ds in data_scientist_examples:\n",
    "    print(f\"Features: {ds.feature_vector()}, Label: {ds.label()}\")\n"
   ]
  },
  {
   "cell_type": "markdown",
   "metadata": {},
   "source": [
    "### Problem 3 Logistic Regression \n",
    "\n",
    "In this problem, you need to write function(s) to build a classifier using logistic regression algorithm implemented in **sklearn.linear_model.LogisticRegression**.  Then, you need to apply the test methods (**leaveOneOut and randomSplit**) to evaluate the learned classifier in terms of accuracy, sensitivity, specificity, and positive predicative value.\n",
    "\n",
    "The output of your evaluation on the logistic-regression classifier you built could be similar to the below, assuming the salary and tenured year values are scaled to values that have mean 0 and std 1 and the probability threshold is set as 0.3. \n",
    "\n",
    "To scale the values, you can apply the function scaleAttrs.  You can also apply code that defines the test methods and measures.  The function definitions are provided above in the Reference Code section. I recommend you to review the lecture if you need to figure what and how they can applied in a classification system. \n",
    "\n",
    "More Hint: In addition to the code provided in this document, you will need to reference the code in lecture that is used to build a model using logistic regression, apply the model, and evaluate the model.  \n",
    "\n",
    "```\n",
    "Average of 10 80/20 splits LR\n",
    " Accuracy = 0.857\n",
    " Sensitivity = 0.881\n",
    " Specificity = 0.849\n",
    " Pos. Pred. Val. = 0.664\n",
    "Average of LOO testing using LR\n",
    " Accuracy = 0.865\n",
    " Sensitivity = 0.846\n",
    " Specificity = 0.872\n",
    " Pos. Pred. Val. = 0.698\n",
    "\n",
    " ``` "
   ]
  },
  {
   "cell_type": "code",
   "execution_count": 15,
   "metadata": {},
   "outputs": [
    {
     "name": "stdout",
     "output_type": "stream",
     "text": [
      "Confusion Matrix:\n",
      "[[1 0]\n",
      " [0 0]]\n",
      "Accuracy: 1.000\n",
      "Sensitivity: 0.000\n",
      "Specificity: 1.000\n",
      "Positive Predictive Value: 0.000\n"
     ]
    }
   ],
   "source": [
    "from sklearn.linear_model import LogisticRegression\n",
    "from sklearn.model_selection import train_test_split\n",
    "from sklearn.metrics import confusion_matrix\n",
    "\n",
    "# Prepare data\n",
    "X = [ds.feature_vector() for ds in data_scientist_examples]\n",
    "y = [ds.label() for ds in data_scientist_examples]\n",
    "\n",
    "# Split the data\n",
    "X_train, X_test, y_train, y_test = train_test_split(X, y, test_size=0.2, random_state=42)\n",
    "\n",
    "# Build Logistic Regression classifier\n",
    "model = LogisticRegression()\n",
    "model.fit(X_train, y_train)\n",
    "\n",
    "# Test the classifier\n",
    "y_pred = model.predict(X_test)\n",
    "\n",
    "# Ensure confusion matrix includes all labels\n",
    "conf_matrix = confusion_matrix(y_test, y_pred, labels=[0, 1])\n",
    "tn, fp, fn, tp = conf_matrix.ravel()\n",
    "\n",
    "# Compute evaluation metrics\n",
    "accuracy = (tp + tn) / (tn + fp + fn + tp)\n",
    "sensitivity = tp / (tp + fn) if (tp + fn) != 0 else 0  # Avoid division by zero\n",
    "specificity = tn / (tn + fp) if (tn + fp) != 0 else 0\n",
    "positive_predictive_value = tp / (tp + fp) if (tp + fp) != 0 else 0\n",
    "\n",
    "# Output results\n",
    "print(f\"Confusion Matrix:\\n{conf_matrix}\")\n",
    "print(f\"Accuracy: {accuracy:.3f}\")\n",
    "print(f\"Sensitivity: {sensitivity:.3f}\")\n",
    "print(f\"Specificity: {specificity:.3f}\")\n",
    "print(f\"Positive Predictive Value: {positive_predictive_value:.3f}\")\n"
   ]
  },
  {
   "cell_type": "markdown",
   "metadata": {},
   "source": [
    "### Problem 4 KNN\n",
    "\n",
    "In this problem, you need to write function(s) to build a classifier using KNN algorithm.  Your implementation needs to be based on the provided **KNearestClassify** defined earlier in this document.  Then, you need to apply the test methods (**leaveOneOut and randomSplit**) to evaluate the learned classifer in terms of accuracy, sensitivity, specificity, and positive predicative value.\n",
    "\n",
    "More Hint: In addition to the code provided in this document, you will need to reference the code in lecture that is used to define KNN, apply KNN, and evaluate the classification result.  \n",
    "\n",
    "The output of your evaluation on the KNN classifier you built could be similar to the below:\n",
    "```\n",
    "Average of 10 80/20 splits using KNN (k=3)\n",
    " Accuracy = 0.848\n",
    " Sensitivity = 0.574\n",
    " Specificity = 0.94\n",
    " Pos. Pred. Val. = 0.763\n",
    "Average of LOO testing using KNN (k=3)\n",
    " Accuracy = 0.865\n",
    " Sensitivity = 0.596\n",
    " Specificity = 0.959\n",
    " Pos. Pred. Val. = 0.838\n",
    "\n",
    "\n",
    " ```"
   ]
  },
  {
   "cell_type": "code",
   "execution_count": 17,
   "metadata": {},
   "outputs": [
    {
     "name": "stdout",
     "output_type": "stream",
     "text": [
      "KNN Accuracy: 0.000\n",
      "KNN Sensitivity: nan\n",
      "KNN Specificity: 0.000\n",
      "KNN Positive Predictive Value: 0.000\n"
     ]
    },
    {
     "name": "stderr",
     "output_type": "stream",
     "text": [
      "C:\\Users\\ASUS\\AppData\\Local\\Temp\\ipykernel_3728\\1281863556.py:14: RuntimeWarning: invalid value encountered in scalar divide\n",
      "  knn_sensitivity = tp / (tp + fn)\n"
     ]
    }
   ],
   "source": [
    "from sklearn.neighbors import KNeighborsClassifier\n",
    "\n",
    "# Build KNN classifier\n",
    "knn_model = KNeighborsClassifier(n_neighbors=3)\n",
    "knn_model.fit(X_train, y_train)\n",
    "\n",
    "# Test the classifier\n",
    "knn_pred = knn_model.predict(X_test)\n",
    "\n",
    "# Evaluation metrics\n",
    "knn_conf_matrix = confusion_matrix(y_test, knn_pred)\n",
    "tn, fp, fn, tp = knn_conf_matrix.ravel()\n",
    "knn_accuracy = (tp + tn) / (tn + fp + fn + tp)\n",
    "knn_sensitivity = tp / (tp + fn)\n",
    "knn_specificity = tn / (tn + fp)\n",
    "knn_positive_predictive_value = tp / (tp + fp)\n",
    "\n",
    "print(f\"KNN Accuracy: {knn_accuracy:.3f}\")\n",
    "print(f\"KNN Sensitivity: {knn_sensitivity:.3f}\")\n",
    "print(f\"KNN Specificity: {knn_specificity:.3f}\")\n",
    "print(f\"KNN Positive Predictive Value: {knn_positive_predictive_value:.3f}\")\n"
   ]
  },
  {
   "cell_type": "markdown",
   "metadata": {},
   "source": [
    "## Loan\n",
    "\n",
    "In the following problems, you will analyze a set of loan data points.  Each data point is presented as a row in the data file (loan_data.csv).   Each row contains the customer data including id, outcome, dti, borrower_score, and payment_inc_ratio. The loan outcome should be used to label the data point for your classifier.  You should not use id as a feature for your feature vectors. \n",
    "\n"
   ]
  },
  {
   "cell_type": "markdown",
   "metadata": {},
   "source": [
    "### Problem 5  Preparing for Building Learning Algorithms \n",
    "\n",
    "For this problem, you need to write functions/class definition(s) to prepare building classifiers and testing them using various metrics including accuracy, sensitivity, specificity, positive predicative value, negative predictive value. In Problem 2, you are also required to define the metric functions. So, you can reuse the functions you defined there. In addition, you need to define a class Customer from which you can create data examples.  Each example represents a Customer in terms of its features.  Your class definition also needs to allow you label a customer appropriately based on the loan outcome \"paid off\" or \"default\". Your class definition should be clear about what features are used in a feature vector and what is your label attribute for each data example. \n",
    "\n",
    "After you complete your class Customer definition, you need to process the provided data into a list of data examples. (Each example is a customer.)  \n",
    "\n",
    "Again, I would emphasize that you can reuse as much code as possible from the lecture notes and share your code to solve the problems in this assignment.  "
   ]
  },
  {
   "cell_type": "code",
   "execution_count": 38,
   "metadata": {},
   "outputs": [
    {
     "name": "stdout",
     "output_type": "stream",
     "text": [
      "Features: [21.23, 0.4, 5.11135], Label: 1\n",
      "Features: [15.49, 0.4, 5.43165], Label: 0\n",
      "Features: [27.3, 0.7, 9.23003], Label: 1\n",
      "Features: [21.11, 0.4, 2.33482], Label: 1\n",
      "Features: [16.46, 0.45, 12.1032], Label: 0\n"
     ]
    }
   ],
   "source": [
    "# Pandas are neccesary adn recommended when analyzing csv files\n",
    "import pandas as pd \n",
    "\n",
    "# Define a Customer class\n",
    "class Customer:\n",
    "    def __init__(self, dti, borrower_score, payment_inc_ratio, outcome):\n",
    "        self.dti = dti\n",
    "        self.borrower_score = borrower_score\n",
    "        self.payment_inc_ratio = payment_inc_ratio\n",
    "        self.outcome = outcome  # \"paid off\" or \"default\"\n",
    "\n",
    "    def feature_vector(self):\n",
    "        return [self.dti, self.borrower_score, self.payment_inc_ratio]\n",
    "\n",
    "    def label(self):\n",
    "        return 1 if self.outcome == \"paid off\" else 0\n",
    "\n",
    "# Metric Functions\n",
    "def calculate_metrics(conf_matrix):\n",
    "    tn, fp, fn, tp = conf_matrix.ravel()\n",
    "    accuracy = (tp + tn) / (tn + fp + fn + tp)\n",
    "    sensitivity = tp / (tp + fn)\n",
    "    specificity = tn / (tn + fp)\n",
    "    positive_predictive_value = tp / (tp + fp)\n",
    "    negative_predictive_value = tn / (tn + fn)\n",
    "    return accuracy, sensitivity, specificity, positive_predictive_value, negative_predictive_value\n",
    "\n",
    "# Load the loan data\n",
    "data_file = \"loan_data.csv\"  # Replace with actual file path\n",
    "loan_data = pd.read_csv(data_file)\n",
    "\n",
    "# Process data into Customer examples\n",
    "customers = [\n",
    "    Customer(row['dti'], row['borrower_score'], row['payment_inc_ratio'], row['outcome'])\n",
    "    for _, row in loan_data.iterrows()\n",
    "]\n",
    "\n",
    "# Example usage\n",
    "for customer in customers[:5]:  # Display first 5 customers\n",
    "    print(f\"Features: {customer.feature_vector()}, Label: {customer.label()}\")\n"
   ]
  },
  {
   "cell_type": "markdown",
   "metadata": {},
   "source": [
    "### Problem 6 Logistic Regression \n",
    "\n",
    "In this problem, you need to write function(s) to build a classifier using logistic regression algorithm implemented in **sklearn.linear_model.LogisticRegression**.  Then, you need to apply the test methods (**leaveOneOut and randomSplit**) to evaluate the learned classifier in terms of accuracy, sensitivity, specificity, and positive predicative value.\n",
    "\n",
    " Additionally, you need to plot the ROC curve and compute the AUC score to evaluate your classifier.  "
   ]
  },
  {
   "cell_type": "code",
   "execution_count": 40,
   "metadata": {},
   "outputs": [
    {
     "name": "stdout",
     "output_type": "stream",
     "text": [
      "Accuracy: 0.622\n",
      "Sensitivity: 0.649\n",
      "Specificity: 0.592\n",
      "Positive Predictive Value: 0.634\n",
      "Negative Predictive Value: 0.607\n"
     ]
    },
    {
     "data": {
      "image/png": "[encoded data removed]",
      "text/plain": [
       "<Figure size 640x480 with 1 Axes>"
      ]
     },
     "metadata": {},
     "output_type": "display_data"
    },
    {
     "name": "stdout",
     "output_type": "stream",
     "text": [
      "AUC Score: 0.671\n"
     ]
    }
   ],
   "source": [
    "from sklearn.metrics import roc_curve, auc\n",
    "\n",
    "# Prepare data\n",
    "X = [customer.feature_vector() for customer in customers]\n",
    "y = [customer.label() for customer in customers]\n",
    "\n",
    "# Split the data\n",
    "X_train, X_test, y_train, y_test = train_test_split(X, y, test_size=0.2, random_state=42)\n",
    "\n",
    "# Build Logistic Regression classifier\n",
    "model = LogisticRegression()\n",
    "model.fit(X_train, y_train)\n",
    "\n",
    "# Test the classifier\n",
    "y_pred = model.predict(X_test)\n",
    "conf_matrix = confusion_matrix(y_test, y_pred)\n",
    "\n",
    "# Compute metrics\n",
    "accuracy, sensitivity, specificity, ppv, npv = calculate_metrics(conf_matrix)\n",
    "print(f\"Accuracy: {accuracy:.3f}\")\n",
    "print(f\"Sensitivity: {sensitivity:.3f}\")\n",
    "print(f\"Specificity: {specificity:.3f}\")\n",
    "print(f\"Positive Predictive Value: {ppv:.3f}\")\n",
    "print(f\"Negative Predictive Value: {npv:.3f}\")\n",
    "\n",
    "\n",
    "\n",
    "#The ROC Curve and AUC Score are as below:\n",
    "\n",
    "y_prob = model.predict_proba(X_test)[:, 1] # Predict probabilities\n",
    "\n",
    "# Compute ROC curve and AUC\n",
    "fpr, tpr, thresholds = roc_curve(y_test, y_prob)\n",
    "roc_auc = auc(fpr, tpr)\n",
    "\n",
    "# Plot ROC curve\n",
    "plt.figure()\n",
    "plt.plot(fpr, tpr, color='blue', label=f'ROC curve (area = {roc_auc:.2f})')\n",
    "plt.plot([0, 1], [0, 1], color='red', linestyle='--')\n",
    "plt.xlabel('False Positive Rate')\n",
    "plt.ylabel('True Positive Rate')\n",
    "plt.title('Receiver Operating Characteristic')\n",
    "plt.legend(loc=\"lower right\")\n",
    "plt.show()\n",
    "\n",
    "print(f\"AUC Score: {roc_auc:.3f}\")\n"
   ]
  },
  {
   "cell_type": "markdown",
   "metadata": {},
   "source": [
    "## Problem 7 Summary Writeup\n",
    "\n",
    "For this problem, you are expected to reflect on the classifiers you built on the two data sets (data scientists and loan customers).  You need to address the below questions:\n",
    "\n",
    "While building the classifiers using KNN and logistic regression, how do you think the classifiers? Any one is better? And why?"
   ]
  },
  {
   "cell_type": "markdown",
   "metadata": {},
   "source": [
    "In my analysis, I believe logistic regression is the better classifier when compared to KNN. This is because most of the questions has a linear r or near-linear relationship between features and the outcome, and here is a need for probabilistic outputs for decision-making. Therefore, this is more efficient and interoperable to the analysis. \r\n",
    "\r\n",
    "While KNN can be good for the loan dataset which is not a strictly linear relationship, I believe with the logistic regression, the analysis can still be made feasib as proven in problem 6. . "
   ]
  },
  {
   "cell_type": "markdown",
   "metadata": {},
   "source": [
    "# Turn-in\n",
    "\n",
    "Turn in your notebook including your Python code and answers to the questions to D2L Assignments folder <b>Assignment 7</b>. Note that your notebook document should include running output for each code cell included in your document. "
   ]
  }
 ],
 "metadata": {
  "kernelspec": {
   "display_name": "Python 3 (ipykernel)",
   "language": "python",
   "name": "python3"
  },
  "language_info": {
   "codemirror_mode": {
    "name": "ipython",
    "version": 3
   },
   "file_extension": ".py",
   "mimetype": "text/x-python",
   "name": "python",
   "nbconvert_exporter": "python",
   "pygments_lexer": "ipython3",
   "version": "3.12.4"
  }
 },
 "nbformat": 4,
 "nbformat_minor": 4
}
